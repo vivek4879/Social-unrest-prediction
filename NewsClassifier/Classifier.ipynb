{
  "nbformat": 4,
  "nbformat_minor": 0,
  "metadata": {
    "colab": {
      "name": "Task1Classifier.ipynb",
      "provenance": [],
      "collapsed_sections": []
    },
    "kernelspec": {
      "name": "python3",
      "display_name": "Python 3"
    },
    "language_info": {
      "name": "python"
    }
  },
  "cells": [
    {
      "cell_type": "code",
      "execution_count": null,
      "metadata": {
        "id": "3sWrazk4eWHY"
      },
      "outputs": [],
      "source": [
        "import pandas as pd\n",
        "import numpy as np"
      ]
    },
    {
      "cell_type": "markdown",
      "source": [
        "Read the train data from google drive"
      ],
      "metadata": {
        "id": "NtlLdFJTTIBl"
      }
    },
    {
      "cell_type": "markdown",
      "source": [
        ""
      ],
      "metadata": {
        "id": "zavHr83WhvmH"
      }
    },
    {
      "cell_type": "code",
      "source": [
        "df_train = pd.read_csv(\"/content/task_1_information_extraction_train.tsv\",header=0, sep='\\t' )\n",
        "# df_train=df_train.iloc[:100,:]\n",
        "df_train.head()"
      ],
      "metadata": {
        "colab": {
          "base_uri": "https://localhost:8080/",
          "height": 476
        },
        "id": "k7dqJtHzI4H7",
        "outputId": "669e97d8-4cdd-4215-863a-26118bc42d0f"
      },
      "execution_count": null,
      "outputs": [
        {
          "output_type": "execute_result",
          "data": {
            "text/plain": [
              "                                               NOTES        EVENT_DATE  \\\n",
              "0  Three people were killed while 27 others injur...    29-August-2012   \n",
              "1  Government security forces opened fire at a pr...       03-May-2014   \n",
              "2  Al Shabaab forces attacked government forces b...       01-May-2012   \n",
              "3  Agreement: Rebels resumed peace talks with the...   05-October-2013   \n",
              "4  The person who had acted as the go-between for...  21-December-2001   \n",
              "\n",
              "                 SOURCE  FATALITIES                  EVENT_TYPE  \\\n",
              "0  Statesman (Pakistan)           3  Explosions/Remote violence   \n",
              "1    Undisclosed Source           0  Violence against civilians   \n",
              "2            All Africa          11                     Battles   \n",
              "3                   AFP           0      Strategic developments   \n",
              "4      Dispatch Kabylie           0                       Riots   \n",
              "\n",
              "                  SUB_EVENT_TYPE  \\\n",
              "0  Remote explosive/landmine/IED   \n",
              "1                         Attack   \n",
              "2                    Armed clash   \n",
              "3                      Agreement   \n",
              "4          Violent demonstration   \n",
              "\n",
              "                                              ACTOR1  INTER1  \\\n",
              "0                Unidentified Armed Group (Pakistan)       3   \n",
              "1             Military Forces of Somalia (2012-2017)       1   \n",
              "2                                         Al Shabaab       2   \n",
              "3  MNLA: National Movement for the Liberation of ...       2   \n",
              "4                                  Rioters (Algeria)       5   \n",
              "\n",
              "                                   ACTOR2  INTER2  INTERACTION   LOCATION  \n",
              "0                    Civilians (Pakistan)       7           37  Jacobabad  \n",
              "1                     Civilians (Somalia)       7           17     Baidoa  \n",
              "2  Military Forces of Somalia (2004-2012)       1           12      Hudur  \n",
              "3          Government of Mali (2013-2020)       1           12     Bamako  \n",
              "4                                     NaN       0           50     Bejaia  "
            ],
            "text/html": [
              "\n",
              "  <div id=\"df-f44076d1-6b00-4804-a1f8-aea87e812189\">\n",
              "    <div class=\"colab-df-container\">\n",
              "      <div>\n",
              "<style scoped>\n",
              "    .dataframe tbody tr th:only-of-type {\n",
              "        vertical-align: middle;\n",
              "    }\n",
              "\n",
              "    .dataframe tbody tr th {\n",
              "        vertical-align: top;\n",
              "    }\n",
              "\n",
              "    .dataframe thead th {\n",
              "        text-align: right;\n",
              "    }\n",
              "</style>\n",
              "<table border=\"1\" class=\"dataframe\">\n",
              "  <thead>\n",
              "    <tr style=\"text-align: right;\">\n",
              "      <th></th>\n",
              "      <th>NOTES</th>\n",
              "      <th>EVENT_DATE</th>\n",
              "      <th>SOURCE</th>\n",
              "      <th>FATALITIES</th>\n",
              "      <th>EVENT_TYPE</th>\n",
              "      <th>SUB_EVENT_TYPE</th>\n",
              "      <th>ACTOR1</th>\n",
              "      <th>INTER1</th>\n",
              "      <th>ACTOR2</th>\n",
              "      <th>INTER2</th>\n",
              "      <th>INTERACTION</th>\n",
              "      <th>LOCATION</th>\n",
              "    </tr>\n",
              "  </thead>\n",
              "  <tbody>\n",
              "    <tr>\n",
              "      <th>0</th>\n",
              "      <td>Three people were killed while 27 others injur...</td>\n",
              "      <td>29-August-2012</td>\n",
              "      <td>Statesman (Pakistan)</td>\n",
              "      <td>3</td>\n",
              "      <td>Explosions/Remote violence</td>\n",
              "      <td>Remote explosive/landmine/IED</td>\n",
              "      <td>Unidentified Armed Group (Pakistan)</td>\n",
              "      <td>3</td>\n",
              "      <td>Civilians (Pakistan)</td>\n",
              "      <td>7</td>\n",
              "      <td>37</td>\n",
              "      <td>Jacobabad</td>\n",
              "    </tr>\n",
              "    <tr>\n",
              "      <th>1</th>\n",
              "      <td>Government security forces opened fire at a pr...</td>\n",
              "      <td>03-May-2014</td>\n",
              "      <td>Undisclosed Source</td>\n",
              "      <td>0</td>\n",
              "      <td>Violence against civilians</td>\n",
              "      <td>Attack</td>\n",
              "      <td>Military Forces of Somalia (2012-2017)</td>\n",
              "      <td>1</td>\n",
              "      <td>Civilians (Somalia)</td>\n",
              "      <td>7</td>\n",
              "      <td>17</td>\n",
              "      <td>Baidoa</td>\n",
              "    </tr>\n",
              "    <tr>\n",
              "      <th>2</th>\n",
              "      <td>Al Shabaab forces attacked government forces b...</td>\n",
              "      <td>01-May-2012</td>\n",
              "      <td>All Africa</td>\n",
              "      <td>11</td>\n",
              "      <td>Battles</td>\n",
              "      <td>Armed clash</td>\n",
              "      <td>Al Shabaab</td>\n",
              "      <td>2</td>\n",
              "      <td>Military Forces of Somalia (2004-2012)</td>\n",
              "      <td>1</td>\n",
              "      <td>12</td>\n",
              "      <td>Hudur</td>\n",
              "    </tr>\n",
              "    <tr>\n",
              "      <th>3</th>\n",
              "      <td>Agreement: Rebels resumed peace talks with the...</td>\n",
              "      <td>05-October-2013</td>\n",
              "      <td>AFP</td>\n",
              "      <td>0</td>\n",
              "      <td>Strategic developments</td>\n",
              "      <td>Agreement</td>\n",
              "      <td>MNLA: National Movement for the Liberation of ...</td>\n",
              "      <td>2</td>\n",
              "      <td>Government of Mali (2013-2020)</td>\n",
              "      <td>1</td>\n",
              "      <td>12</td>\n",
              "      <td>Bamako</td>\n",
              "    </tr>\n",
              "    <tr>\n",
              "      <th>4</th>\n",
              "      <td>The person who had acted as the go-between for...</td>\n",
              "      <td>21-December-2001</td>\n",
              "      <td>Dispatch Kabylie</td>\n",
              "      <td>0</td>\n",
              "      <td>Riots</td>\n",
              "      <td>Violent demonstration</td>\n",
              "      <td>Rioters (Algeria)</td>\n",
              "      <td>5</td>\n",
              "      <td>NaN</td>\n",
              "      <td>0</td>\n",
              "      <td>50</td>\n",
              "      <td>Bejaia</td>\n",
              "    </tr>\n",
              "  </tbody>\n",
              "</table>\n",
              "</div>\n",
              "      <button class=\"colab-df-convert\" onclick=\"convertToInteractive('df-f44076d1-6b00-4804-a1f8-aea87e812189')\"\n",
              "              title=\"Convert this dataframe to an interactive table.\"\n",
              "              style=\"display:none;\">\n",
              "        \n",
              "  <svg xmlns=\"http://www.w3.org/2000/svg\" height=\"24px\"viewBox=\"0 0 24 24\"\n",
              "       width=\"24px\">\n",
              "    <path d=\"M0 0h24v24H0V0z\" fill=\"none\"/>\n",
              "    <path d=\"M18.56 5.44l.94 2.06.94-2.06 2.06-.94-2.06-.94-.94-2.06-.94 2.06-2.06.94zm-11 1L8.5 8.5l.94-2.06 2.06-.94-2.06-.94L8.5 2.5l-.94 2.06-2.06.94zm10 10l.94 2.06.94-2.06 2.06-.94-2.06-.94-.94-2.06-.94 2.06-2.06.94z\"/><path d=\"M17.41 7.96l-1.37-1.37c-.4-.4-.92-.59-1.43-.59-.52 0-1.04.2-1.43.59L10.3 9.45l-7.72 7.72c-.78.78-.78 2.05 0 2.83L4 21.41c.39.39.9.59 1.41.59.51 0 1.02-.2 1.41-.59l7.78-7.78 2.81-2.81c.8-.78.8-2.07 0-2.86zM5.41 20L4 18.59l7.72-7.72 1.47 1.35L5.41 20z\"/>\n",
              "  </svg>\n",
              "      </button>\n",
              "      \n",
              "  <style>\n",
              "    .colab-df-container {\n",
              "      display:flex;\n",
              "      flex-wrap:wrap;\n",
              "      gap: 12px;\n",
              "    }\n",
              "\n",
              "    .colab-df-convert {\n",
              "      background-color: #E8F0FE;\n",
              "      border: none;\n",
              "      border-radius: 50%;\n",
              "      cursor: pointer;\n",
              "      display: none;\n",
              "      fill: #1967D2;\n",
              "      height: 32px;\n",
              "      padding: 0 0 0 0;\n",
              "      width: 32px;\n",
              "    }\n",
              "\n",
              "    .colab-df-convert:hover {\n",
              "      background-color: #E2EBFA;\n",
              "      box-shadow: 0px 1px 2px rgba(60, 64, 67, 0.3), 0px 1px 3px 1px rgba(60, 64, 67, 0.15);\n",
              "      fill: #174EA6;\n",
              "    }\n",
              "\n",
              "    [theme=dark] .colab-df-convert {\n",
              "      background-color: #3B4455;\n",
              "      fill: #D2E3FC;\n",
              "    }\n",
              "\n",
              "    [theme=dark] .colab-df-convert:hover {\n",
              "      background-color: #434B5C;\n",
              "      box-shadow: 0px 1px 3px 1px rgba(0, 0, 0, 0.15);\n",
              "      filter: drop-shadow(0px 1px 2px rgba(0, 0, 0, 0.3));\n",
              "      fill: #FFFFFF;\n",
              "    }\n",
              "  </style>\n",
              "\n",
              "      <script>\n",
              "        const buttonEl =\n",
              "          document.querySelector('#df-f44076d1-6b00-4804-a1f8-aea87e812189 button.colab-df-convert');\n",
              "        buttonEl.style.display =\n",
              "          google.colab.kernel.accessAllowed ? 'block' : 'none';\n",
              "\n",
              "        async function convertToInteractive(key) {\n",
              "          const element = document.querySelector('#df-f44076d1-6b00-4804-a1f8-aea87e812189');\n",
              "          const dataTable =\n",
              "            await google.colab.kernel.invokeFunction('convertToInteractive',\n",
              "                                                     [key], {});\n",
              "          if (!dataTable) return;\n",
              "\n",
              "          const docLinkHtml = 'Like what you see? Visit the ' +\n",
              "            '<a target=\"_blank\" href=https://colab.research.google.com/notebooks/data_table.ipynb>data table notebook</a>'\n",
              "            + ' to learn more about interactive tables.';\n",
              "          element.innerHTML = '';\n",
              "          dataTable['output_type'] = 'display_data';\n",
              "          await google.colab.output.renderOutput(dataTable, element);\n",
              "          const docLink = document.createElement('div');\n",
              "          docLink.innerHTML = docLinkHtml;\n",
              "          element.appendChild(docLink);\n",
              "        }\n",
              "      </script>\n",
              "    </div>\n",
              "  </div>\n",
              "  "
            ]
          },
          "metadata": {},
          "execution_count": 3
        }
      ]
    },
    {
      "cell_type": "markdown",
      "source": [
        "For event type and sub-event type, we can use a classfication model as we have limited output classes\n",
        "\n",
        "Reference Article: https://towardsdatascience.com/multi-class-text-classification-with-scikit-learn-12f1e60e0a9f"
      ],
      "metadata": {
        "id": "jRbcwqevTHFs"
      }
    },
    {
      "cell_type": "code",
      "source": [
        "col = ['NOTES', 'EVENT_TYPE']\n",
        "df_train = df_train[col]"
      ],
      "metadata": {
        "id": "Gp5dVhZ4Sw-O"
      },
      "execution_count": null,
      "outputs": []
    },
    {
      "cell_type": "markdown",
      "source": [
        "Map the event types to integers"
      ],
      "metadata": {
        "id": "wykbJVeFYlrU"
      }
    },
    {
      "cell_type": "code",
      "source": [
        "df_train['category_id'] = df_train['EVENT_TYPE'].factorize()[0]\n",
        "df_category_id = df_train[['EVENT_TYPE', 'category_id']].drop_duplicates().sort_values('category_id')\n",
        "category_to_id = dict(df_category_id.values)\n",
        "id_to_category = dict(df_category_id[['category_id','EVENT_TYPE']].values)"
      ],
      "metadata": {
        "id": "dW7LhNgCXUKS"
      },
      "execution_count": null,
      "outputs": []
    },
    {
      "cell_type": "markdown",
      "source": [
        "Checking the distribution of classes :Imbalanced\n",
        "\n",
        "Point of improvement: undersampling or oversampling"
      ],
      "metadata": {
        "id": "wSrsInApZR_7"
      }
    },
    {
      "cell_type": "code",
      "source": [
        "import matplotlib.pyplot as plt\n",
        "fig = plt.figure(figsize=(8,6))\n",
        "df_train.groupby('EVENT_TYPE')['NOTES'].count().plot.bar(ylim=0)\n",
        "plt.show"
      ],
      "metadata": {
        "colab": {
          "base_uri": "https://localhost:8080/",
          "height": 536
        },
        "id": "bVruwtIcYayz",
        "outputId": "5c99b8a7-f39f-4f4c-9d24-6f6964328864"
      },
      "execution_count": null,
      "outputs": [
        {
          "output_type": "execute_result",
          "data": {
            "text/plain": [
              "<function matplotlib.pyplot.show>"
            ]
          },
          "metadata": {},
          "execution_count": 7
        },
        {
          "output_type": "display_data",
          "data": {
            "text/plain": [
              "<Figure size 576x432 with 1 Axes>"
            ],
            "image/png": "[encoded data removed]"
          },
          "metadata": {
            "needs_background": "light"
          }
        }
      ]
    },
    {
      "cell_type": "markdown",
      "source": [
        "Using tf-idf vector"
      ],
      "metadata": {
        "id": "bZLsEEMKaeaz"
      }
    },
    {
      "cell_type": "code",
      "source": [
        "from sklearn.feature_extraction.text import TfidfVectorizer\n",
        "\n",
        "tfidf = TfidfVectorizer(sublinear_tf=True, min_df=5, norm='l2', encoding='latin-1', ngram_range=(1, 2), stop_words='english')\n",
        "\n",
        "features = tfidf.fit_transform(df_train['NOTES'].apply(lambda x: np.str_(x))).toarray()\n",
        "labels = df_train.category_id\n",
        "features.shape"
      ],
      "metadata": {
        "id": "dbNiZOkJY6XT",
        "colab": {
          "base_uri": "https://localhost:8080/"
        },
        "outputId": "b32d6613-1d0d-4093-bd97-354206c0b087"
      },
      "execution_count": null,
      "outputs": [
        {
          "output_type": "execute_result",
          "data": {
            "text/plain": [
              "(100, 32)"
            ]
          },
          "metadata": {},
          "execution_count": 8
        }
      ]
    },
    {
      "cell_type": "code",
      "source": [
        "from sklearn.feature_selection import chi2\n",
        "import numpy as np\n",
        "\n",
        "N = 2\n",
        "for event, category_id in sorted(category_to_id.items()):\n",
        "  features_chi2 = chi2(features, labels == category_id)\n",
        "  indices = np.argsort(features_chi2[0])\n",
        "  feature_names = np.array(tfidf.get_feature_names_out())[indices]\n",
        "  unigrams = [v for v in feature_names if len(v.split(' ')) == 1]\n",
        "  bigrams = [v for v in feature_names if len(v.split(' ')) == 2]\n",
        "  print(\"# '{}':\".format(event))\n",
        "  print(\"  . Most correlated unigrams:\\n. {}\".format('\\n. '.join(unigrams[-N:])))\n",
        "  print(\"  . Most correlated bigrams:\\n. {}\".format('\\n. '.join(bigrams[-N:])))"
      ],
      "metadata": {
        "id": "M7AQa3A9bHIp",
        "colab": {
          "base_uri": "https://localhost:8080/"
        },
        "outputId": "a244b523-46d5-489a-a802-75fd9ef26fa6"
      },
      "execution_count": null,
      "outputs": [
        {
          "output_type": "stream",
          "name": "stdout",
          "text": [
            "# 'Battles':\n",
            "  . Most correlated unigrams:\n",
            ". protest\n",
            ". killed\n",
            "  . Most correlated bigrams:\n",
            ". people killed\n",
            ". killed injured\n",
            "# 'Explosions/Remote violence':\n",
            "  . Most correlated unigrams:\n",
            ". wounded\n",
            ". militants\n",
            "  . Most correlated bigrams:\n",
            ". people killed\n",
            ". killed wounded\n",
            "# 'Protests':\n",
            "  . Most correlated unigrams:\n",
            ". killed\n",
            ". protest\n",
            "  . Most correlated bigrams:\n",
            ". killed wounded\n",
            ". people killed\n",
            "# 'Riots':\n",
            "  . Most correlated unigrams:\n",
            ". people\n",
            ". police\n",
            "  . Most correlated bigrams:\n",
            ". killed injured\n",
            ". people killed\n",
            "# 'Strategic developments':\n",
            "  . Most correlated unigrams:\n",
            ". nan\n",
            ". military\n",
            "  . Most correlated bigrams:\n",
            ". killed wounded\n",
            ". people killed\n",
            "# 'Violence against civilians':\n",
            "  . Most correlated unigrams:\n",
            ". unidentified\n",
            ". group\n",
            "  . Most correlated bigrams:\n",
            ". killed injured\n",
            ". killed wounded\n"
          ]
        }
      ]
    },
    {
      "cell_type": "markdown",
      "source": [
        "Now comes the training part\n",
        "Let us benchmark on the following models:\n",
        "\n",
        "\n",
        "*   Logistic Regression\n",
        "*   (Multinomial) Naive Bayes\n",
        "*   Linear Support Vector Machine\n",
        "*   Randome Forest\n"
      ],
      "metadata": {
        "id": "dhrm3zB3i1HA"
      }
    },
    {
      "cell_type": "code",
      "source": [
        "from sklearn.model_selection import train_test_split\n",
        "from sklearn.feature_extraction.text import CountVectorizer\n",
        "from sklearn.feature_extraction.text import TfidfTransformer\n",
        "from sklearn.naive_bayes import MultinomialNB\n",
        "\n",
        "X_train, X_test, y_train, y_test = train_test_split(df_train['NOTES'], df_train['EVENT_TYPE'], random_state = 0)\n",
        "\n",
        "count_vect = CountVectorizer()\n",
        "X_train_counts = count_vect.fit_transform(X_train.apply(lambda x: np.str_(x)))\n",
        "tfidf_transformer = TfidfTransformer()\n",
        "X_train_tfidf = tfidf_transformer.fit_transform(X_train_counts)\n",
        "\n",
        "\n",
        "\n",
        "clf = MultinomialNB().fit(X_train_tfidf, y_train)"
      ],
      "metadata": {
        "id": "9hpd-0V1g0wH"
      },
      "execution_count": null,
      "outputs": []
    },
    {
      "cell_type": "markdown",
      "source": [
        "Lets make some predictions on this particular model to start with"
      ],
      "metadata": {
        "id": "Goa80qQ9jppi"
      }
    },
    {
      "cell_type": "code",
      "source": [
        "print(clf.predict(count_vect.transform([\"insurgents attack a police station in kaaraan\"])))"
      ],
      "metadata": {
        "id": "AGopkujcjlyp",
        "colab": {
          "base_uri": "https://localhost:8080/"
        },
        "outputId": "9dd8f128-339a-42a0-cd95-534650c00f9d"
      },
      "execution_count": null,
      "outputs": [
        {
          "output_type": "stream",
          "name": "stdout",
          "text": [
            "['Battles']\n"
          ]
        }
      ]
    },
    {
      "cell_type": "markdown",
      "source": [
        "Moving on,"
      ],
      "metadata": {
        "id": "Hr77umXcj8OE"
      }
    },
    {
      "cell_type": "code",
      "source": [
        "from sklearn.linear_model import LogisticRegression\n",
        "from sklearn.ensemble import RandomForestClassifier\n",
        "from sklearn.svm import LinearSVC\n",
        "from sklearn.model_selection import cross_val_score\n",
        "models = [\n",
        "    RandomForestClassifier(n_estimators=200, max_depth=3, random_state=0),\n",
        "    LinearSVC(),\n",
        "    MultinomialNB(),\n",
        "    LogisticRegression(random_state=0),\n",
        "]\n",
        "CV = 5\n",
        "cv_df = pd.DataFrame(index=range(CV * len(models)))\n",
        "entries = []\n",
        "for model in models:\n",
        "  model_name = model.__class__.__name__\n",
        "  accuracies = cross_val_score(model, features, labels, scoring='accuracy', cv=CV)\n",
        "  for fold_idx, accuracy in enumerate(accuracies):\n",
        "    entries.append((model_name, fold_idx, accuracy))\n",
        "cv_df = pd.DataFrame(entries, columns=['model_name', 'fold_idx', 'accuracy'])\n",
        "\n",
        "import seaborn as sns\n",
        "sns.boxplot(x='model_name', y='accuracy', data=cv_df)\n",
        "sns.stripplot(x='model_name', y='accuracy', data=cv_df, \n",
        "              size=8, jitter=True, edgecolor=\"gray\", linewidth=2)\n",
        "plt.show()"
      ],
      "metadata": {
        "id": "mLwUPPX_j7xK",
        "colab": {
          "base_uri": "https://localhost:8080/",
          "height": 446
        },
        "outputId": "61c15260-c3d7-4ea3-a2f8-539b24205934"
      },
      "execution_count": null,
      "outputs": [
        {
          "output_type": "stream",
          "name": "stderr",
          "text": [
            "/usr/local/lib/python3.7/dist-packages/sklearn/model_selection/_split.py:680: UserWarning: The least populated class in y has only 4 members, which is less than n_splits=5.\n",
            "  UserWarning,\n",
            "/usr/local/lib/python3.7/dist-packages/sklearn/model_selection/_split.py:680: UserWarning: The least populated class in y has only 4 members, which is less than n_splits=5.\n",
            "  UserWarning,\n",
            "/usr/local/lib/python3.7/dist-packages/sklearn/model_selection/_split.py:680: UserWarning: The least populated class in y has only 4 members, which is less than n_splits=5.\n",
            "  UserWarning,\n",
            "/usr/local/lib/python3.7/dist-packages/sklearn/model_selection/_split.py:680: UserWarning: The least populated class in y has only 4 members, which is less than n_splits=5.\n",
            "  UserWarning,\n"
          ]
        },
        {
          "output_type": "display_data",
          "data": {
            "text/plain": [
              "<Figure size 432x288 with 1 Axes>"
            ],
            "image/png": "[encoded data removed]"
          },
          "metadata": {
            "needs_background": "light"
          }
        }
      ]
    },
    {
      "cell_type": "code",
      "source": [
        "cv_df.groupby('model_name').accuracy.mean()"
      ],
      "metadata": {
        "id": "i-yx9jsMkBgw",
        "colab": {
          "base_uri": "https://localhost:8080/"
        },
        "outputId": "52c292e4-9bc9-4821-cade-76b59fcaceff"
      },
      "execution_count": null,
      "outputs": [
        {
          "output_type": "execute_result",
          "data": {
            "text/plain": [
              "model_name\n",
              "LinearSVC                 0.57\n",
              "LogisticRegression        0.59\n",
              "MultinomialNB             0.59\n",
              "RandomForestClassifier    0.50\n",
              "Name: accuracy, dtype: float64"
            ]
          },
          "metadata": {},
          "execution_count": 13
        }
      ]
    },
    {
      "cell_type": "markdown",
      "source": [
        "Model Evaluation:"
      ],
      "metadata": {
        "id": "j27syrUTkVGO"
      }
    },
    {
      "cell_type": "code",
      "source": [
        "model = LinearSVC()\n",
        "\n",
        "X_train, X_test, y_train, y_test, indices_train, indices_test = train_test_split(features, labels, df_train.index, test_size=0.33, random_state=0)\n",
        "model.fit(X_train, y_train)\n",
        "y_pred = model.predict(X_test)\n",
        "\n",
        "from sklearn.metrics import confusion_matrix\n",
        "\n",
        "conf_mat = confusion_matrix(y_test+1, y_pred+1)\n",
        "fig, ax = plt.subplots(figsize=(6,6))\n",
        "sns.heatmap(conf_mat, annot=True, fmt='d',\n",
        "            xticklabels=df_category_id.EVENT_TYPE.values, yticklabels=df_category_id.EVENT_TYPE.values)\n",
        "plt.ylabel('Actual')\n",
        "plt.xlabel('Predicted')\n",
        "plt.show()"
      ],
      "metadata": {
        "id": "6yMW66ZRkTaP",
        "colab": {
          "base_uri": "https://localhost:8080/",
          "height": 521
        },
        "outputId": "303282a1-af85-4253-f20e-22da38b5e80f"
      },
      "execution_count": null,
      "outputs": [
        {
          "output_type": "display_data",
          "data": {
            "text/plain": [
              "<Figure size 432x432 with 2 Axes>"
            ],
            "image/png": "[encoded data removed]"
          },
          "metadata": {
            "needs_background": "light"
          }
        }
      ]
    },
    {
      "cell_type": "markdown",
      "source": [
        "In the above confusion matrix, majority of the predictions should end up on the diagonal(predicted label = actual label), where we want them to be."
      ],
      "metadata": {
        "id": "EjFlbALCle76"
      }
    },
    {
      "cell_type": "markdown",
      "source": [
        "Lets take a look at the misclassifications and we might find their causation."
      ],
      "metadata": {
        "id": "-yURzy6NloGF"
      }
    },
    {
      "cell_type": "code",
      "source": [
        "from IPython.display import display\n",
        "\n",
        "for predicted in df_category_id.category_id:\n",
        "  for actual in df_category_id.category_id:\n",
        "    if predicted != actual and conf_mat[actual-1, predicted-1] >= 2:\n",
        "      print(\"'{}' predicted as '{}' : {} examples.\".format(id_to_category[actual], id_to_category[predicted], conf_mat[actual, predicted]))\n",
        "      display(df_train.loc[indices_test[(y_test == actual) & (y_pred == predicted)]][['EVENT_TYPE', 'NOTES']])\n",
        "      print('')"
      ],
      "metadata": {
        "id": "QviDKGMzkX2b",
        "colab": {
          "base_uri": "https://localhost:8080/",
          "height": 155
        },
        "outputId": "b9238c2e-2be6-4e92-c4b8-f9e6ed5c4acb"
      },
      "execution_count": null,
      "outputs": [
        {
          "output_type": "stream",
          "name": "stdout",
          "text": [
            "'Strategic developments' predicted as 'Battles' : 0 examples.\n"
          ]
        },
        {
          "output_type": "display_data",
          "data": {
            "text/plain": [
              "Empty DataFrame\n",
              "Columns: [EVENT_TYPE, NOTES]\n",
              "Index: []"
            ],
            "text/html": [
              "\n",
              "  <div id=\"df-249e5c19-3110-4e4d-ad53-c9884d67fabd\">\n",
              "    <div class=\"colab-df-container\">\n",
              "      <div>\n",
              "<style scoped>\n",
              "    .dataframe tbody tr th:only-of-type {\n",
              "        vertical-align: middle;\n",
              "    }\n",
              "\n",
              "    .dataframe tbody tr th {\n",
              "        vertical-align: top;\n",
              "    }\n",
              "\n",
              "    .dataframe thead th {\n",
              "        text-align: right;\n",
              "    }\n",
              "</style>\n",
              "<table border=\"1\" class=\"dataframe\">\n",
              "  <thead>\n",
              "    <tr style=\"text-align: right;\">\n",
              "      <th></th>\n",
              "      <th>EVENT_TYPE</th>\n",
              "      <th>NOTES</th>\n",
              "    </tr>\n",
              "  </thead>\n",
              "  <tbody>\n",
              "  </tbody>\n",
              "</table>\n",
              "</div>\n",
              "      <button class=\"colab-df-convert\" onclick=\"convertToInteractive('df-249e5c19-3110-4e4d-ad53-c9884d67fabd')\"\n",
              "              title=\"Convert this dataframe to an interactive table.\"\n",
              "              style=\"display:none;\">\n",
              "        \n",
              "  <svg xmlns=\"http://www.w3.org/2000/svg\" height=\"24px\"viewBox=\"0 0 24 24\"\n",
              "       width=\"24px\">\n",
              "    <path d=\"M0 0h24v24H0V0z\" fill=\"none\"/>\n",
              "    <path d=\"M18.56 5.44l.94 2.06.94-2.06 2.06-.94-2.06-.94-.94-2.06-.94 2.06-2.06.94zm-11 1L8.5 8.5l.94-2.06 2.06-.94-2.06-.94L8.5 2.5l-.94 2.06-2.06.94zm10 10l.94 2.06.94-2.06 2.06-.94-2.06-.94-.94-2.06-.94 2.06-2.06.94z\"/><path d=\"M17.41 7.96l-1.37-1.37c-.4-.4-.92-.59-1.43-.59-.52 0-1.04.2-1.43.59L10.3 9.45l-7.72 7.72c-.78.78-.78 2.05 0 2.83L4 21.41c.39.39.9.59 1.41.59.51 0 1.02-.2 1.41-.59l7.78-7.78 2.81-2.81c.8-.78.8-2.07 0-2.86zM5.41 20L4 18.59l7.72-7.72 1.47 1.35L5.41 20z\"/>\n",
              "  </svg>\n",
              "      </button>\n",
              "      \n",
              "  <style>\n",
              "    .colab-df-container {\n",
              "      display:flex;\n",
              "      flex-wrap:wrap;\n",
              "      gap: 12px;\n",
              "    }\n",
              "\n",
              "    .colab-df-convert {\n",
              "      background-color: #E8F0FE;\n",
              "      border: none;\n",
              "      border-radius: 50%;\n",
              "      cursor: pointer;\n",
              "      display: none;\n",
              "      fill: #1967D2;\n",
              "      height: 32px;\n",
              "      padding: 0 0 0 0;\n",
              "      width: 32px;\n",
              "    }\n",
              "\n",
              "    .colab-df-convert:hover {\n",
              "      background-color: #E2EBFA;\n",
              "      box-shadow: 0px 1px 2px rgba(60, 64, 67, 0.3), 0px 1px 3px 1px rgba(60, 64, 67, 0.15);\n",
              "      fill: #174EA6;\n",
              "    }\n",
              "\n",
              "    [theme=dark] .colab-df-convert {\n",
              "      background-color: #3B4455;\n",
              "      fill: #D2E3FC;\n",
              "    }\n",
              "\n",
              "    [theme=dark] .colab-df-convert:hover {\n",
              "      background-color: #434B5C;\n",
              "      box-shadow: 0px 1px 3px 1px rgba(0, 0, 0, 0.15);\n",
              "      filter: drop-shadow(0px 1px 2px rgba(0, 0, 0, 0.3));\n",
              "      fill: #FFFFFF;\n",
              "    }\n",
              "  </style>\n",
              "\n",
              "      <script>\n",
              "        const buttonEl =\n",
              "          document.querySelector('#df-249e5c19-3110-4e4d-ad53-c9884d67fabd button.colab-df-convert');\n",
              "        buttonEl.style.display =\n",
              "          google.colab.kernel.accessAllowed ? 'block' : 'none';\n",
              "\n",
              "        async function convertToInteractive(key) {\n",
              "          const element = document.querySelector('#df-249e5c19-3110-4e4d-ad53-c9884d67fabd');\n",
              "          const dataTable =\n",
              "            await google.colab.kernel.invokeFunction('convertToInteractive',\n",
              "                                                     [key], {});\n",
              "          if (!dataTable) return;\n",
              "\n",
              "          const docLinkHtml = 'Like what you see? Visit the ' +\n",
              "            '<a target=\"_blank\" href=https://colab.research.google.com/notebooks/data_table.ipynb>data table notebook</a>'\n",
              "            + ' to learn more about interactive tables.';\n",
              "          element.innerHTML = '';\n",
              "          dataTable['output_type'] = 'display_data';\n",
              "          await google.colab.output.renderOutput(dataTable, element);\n",
              "          const docLink = document.createElement('div');\n",
              "          docLink.innerHTML = docLinkHtml;\n",
              "          element.appendChild(docLink);\n",
              "        }\n",
              "      </script>\n",
              "    </div>\n",
              "  </div>\n",
              "  "
            ]
          },
          "metadata": {}
        },
        {
          "output_type": "stream",
          "name": "stdout",
          "text": [
            "\n",
            "'Battles' predicted as 'Strategic developments' : 0 examples.\n"
          ]
        },
        {
          "output_type": "display_data",
          "data": {
            "text/plain": [
              "Empty DataFrame\n",
              "Columns: [EVENT_TYPE, NOTES]\n",
              "Index: []"
            ],
            "text/html": [
              "\n",
              "  <div id=\"df-60554f34-eb1a-4cfc-a542-2d4a4fffb41c\">\n",
              "    <div class=\"colab-df-container\">\n",
              "      <div>\n",
              "<style scoped>\n",
              "    .dataframe tbody tr th:only-of-type {\n",
              "        vertical-align: middle;\n",
              "    }\n",
              "\n",
              "    .dataframe tbody tr th {\n",
              "        vertical-align: top;\n",
              "    }\n",
              "\n",
              "    .dataframe thead th {\n",
              "        text-align: right;\n",
              "    }\n",
              "</style>\n",
              "<table border=\"1\" class=\"dataframe\">\n",
              "  <thead>\n",
              "    <tr style=\"text-align: right;\">\n",
              "      <th></th>\n",
              "      <th>EVENT_TYPE</th>\n",
              "      <th>NOTES</th>\n",
              "    </tr>\n",
              "  </thead>\n",
              "  <tbody>\n",
              "  </tbody>\n",
              "</table>\n",
              "</div>\n",
              "      <button class=\"colab-df-convert\" onclick=\"convertToInteractive('df-60554f34-eb1a-4cfc-a542-2d4a4fffb41c')\"\n",
              "              title=\"Convert this dataframe to an interactive table.\"\n",
              "              style=\"display:none;\">\n",
              "        \n",
              "  <svg xmlns=\"http://www.w3.org/2000/svg\" height=\"24px\"viewBox=\"0 0 24 24\"\n",
              "       width=\"24px\">\n",
              "    <path d=\"M0 0h24v24H0V0z\" fill=\"none\"/>\n",
              "    <path d=\"M18.56 5.44l.94 2.06.94-2.06 2.06-.94-2.06-.94-.94-2.06-.94 2.06-2.06.94zm-11 1L8.5 8.5l.94-2.06 2.06-.94-2.06-.94L8.5 2.5l-.94 2.06-2.06.94zm10 10l.94 2.06.94-2.06 2.06-.94-2.06-.94-.94-2.06-.94 2.06-2.06.94z\"/><path d=\"M17.41 7.96l-1.37-1.37c-.4-.4-.92-.59-1.43-.59-.52 0-1.04.2-1.43.59L10.3 9.45l-7.72 7.72c-.78.78-.78 2.05 0 2.83L4 21.41c.39.39.9.59 1.41.59.51 0 1.02-.2 1.41-.59l7.78-7.78 2.81-2.81c.8-.78.8-2.07 0-2.86zM5.41 20L4 18.59l7.72-7.72 1.47 1.35L5.41 20z\"/>\n",
              "  </svg>\n",
              "      </button>\n",
              "      \n",
              "  <style>\n",
              "    .colab-df-container {\n",
              "      display:flex;\n",
              "      flex-wrap:wrap;\n",
              "      gap: 12px;\n",
              "    }\n",
              "\n",
              "    .colab-df-convert {\n",
              "      background-color: #E8F0FE;\n",
              "      border: none;\n",
              "      border-radius: 50%;\n",
              "      cursor: pointer;\n",
              "      display: none;\n",
              "      fill: #1967D2;\n",
              "      height: 32px;\n",
              "      padding: 0 0 0 0;\n",
              "      width: 32px;\n",
              "    }\n",
              "\n",
              "    .colab-df-convert:hover {\n",
              "      background-color: #E2EBFA;\n",
              "      box-shadow: 0px 1px 2px rgba(60, 64, 67, 0.3), 0px 1px 3px 1px rgba(60, 64, 67, 0.15);\n",
              "      fill: #174EA6;\n",
              "    }\n",
              "\n",
              "    [theme=dark] .colab-df-convert {\n",
              "      background-color: #3B4455;\n",
              "      fill: #D2E3FC;\n",
              "    }\n",
              "\n",
              "    [theme=dark] .colab-df-convert:hover {\n",
              "      background-color: #434B5C;\n",
              "      box-shadow: 0px 1px 3px 1px rgba(0, 0, 0, 0.15);\n",
              "      filter: drop-shadow(0px 1px 2px rgba(0, 0, 0, 0.3));\n",
              "      fill: #FFFFFF;\n",
              "    }\n",
              "  </style>\n",
              "\n",
              "      <script>\n",
              "        const buttonEl =\n",
              "          document.querySelector('#df-60554f34-eb1a-4cfc-a542-2d4a4fffb41c button.colab-df-convert');\n",
              "        buttonEl.style.display =\n",
              "          google.colab.kernel.accessAllowed ? 'block' : 'none';\n",
              "\n",
              "        async function convertToInteractive(key) {\n",
              "          const element = document.querySelector('#df-60554f34-eb1a-4cfc-a542-2d4a4fffb41c');\n",
              "          const dataTable =\n",
              "            await google.colab.kernel.invokeFunction('convertToInteractive',\n",
              "                                                     [key], {});\n",
              "          if (!dataTable) return;\n",
              "\n",
              "          const docLinkHtml = 'Like what you see? Visit the ' +\n",
              "            '<a target=\"_blank\" href=https://colab.research.google.com/notebooks/data_table.ipynb>data table notebook</a>'\n",
              "            + ' to learn more about interactive tables.';\n",
              "          element.innerHTML = '';\n",
              "          dataTable['output_type'] = 'display_data';\n",
              "          await google.colab.output.renderOutput(dataTable, element);\n",
              "          const docLink = document.createElement('div');\n",
              "          docLink.innerHTML = docLinkHtml;\n",
              "          element.appendChild(docLink);\n",
              "        }\n",
              "      </script>\n",
              "    </div>\n",
              "  </div>\n",
              "  "
            ]
          },
          "metadata": {}
        },
        {
          "output_type": "stream",
          "name": "stdout",
          "text": [
            "\n"
          ]
        }
      ]
    }
  ]
}