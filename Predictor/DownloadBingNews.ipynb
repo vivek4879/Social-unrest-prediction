{
  "cells": [
    {
      "cell_type": "code",
      "execution_count": 3,
      "metadata": {
        "id": "MlOsW_Hj9V3D"
      },
      "outputs": [],
      "source": [
        "!pip install newspaper3k\n",
        "\n",
        "import requests\n",
        "from IPython.display import HTML\n",
        "import csv\n",
        "import dateutil.parser\n",
        "from newspaper import Article\n",
        "import pandas"
      ]
    },
    {
      "cell_type": "code",
      "execution_count": null,
      "metadata": {
        "id": "7y8Bo6dy9V3F"
      },
      "outputs": [],
      "source": [
        "heading=[\"datapublished\",\"name\",\"description\",\"provider\",\"url\"]\n",
        "with open('bingNews.csv', 'w') as csvFile:\n",
        "    writer = csv.writer(csvFile)\n",
        "    writer.writerow(heading)"
      ]
    },
    {
      "cell_type": "code",
      "source": [
        "subscription_key = \"9b9a7296d70040b18f561f5e5fa6896b\"\n",
        "search_term = \"protests+battles+explosions+violence+civilians+riots+violence\"\n",
        "search_url = \"https://api.bing.microsoft.com/v7.0/news/search\"\n",
        "\n",
        "headers = {\"Ocp-Apim-Subscription-Key\" : subscription_key}\n",
        "\n",
        "with open('getBingNews.csv', 'a') as csvFile:\n",
        "    writer = csv.writer(csvFile)\n",
        "    for offset in range(0,500):\n",
        "      parameters  = {\"q\": search_term, \"textDecorations\": True, \"textFormat\": \"HTML\", \n",
        "            \"count\": 100, \"offset\": offset, \"mkt\":\"en-US\", \"since\": date, \"sortBy\": \"Date\"}\n",
        "      response = requests.get(search_url, headers=headers, params=parameters)\n",
        "      response.raise_for_status()\n",
        "      search_results = response.json()\n",
        "    for article in search_results[\"value\"]:\n",
        "        array = [article[\"datePublished\"],article[\"name\"],article[\"description\"],article[\"provider\"],article[\"url\"]]\n",
        "        print(array)\n",
        "        writer.writerow(array)"
      ],
      "metadata": {
        "id": "cukOny7adPLc"
      },
      "execution_count": null,
      "outputs": []
    },
    {
      "cell_type": "code",
      "execution_count": null,
      "metadata": {
        "id": "PPxs-Pxp9V3N",
        "outputId": "0063ec59-ef1d-4ed7-c433-13bd3a718800"
      },
      "outputs": [
        {
          "name": "stderr",
          "output_type": "stream",
          "text": [
            "/Users/dhayanidhigunasekaran/anaconda/lib/python3.5/site-packages/dateutil/parser/_parser.py:1204: UnknownTimezoneWarning: tzname IST identified but not understood.  Pass `tzinfos` argument in order to correctly return a timezone-aware datetime.  In a future version, this will raise an exception.\n",
            "  category=UnknownTimezoneWarning)\n"
          ]
        }
      ],
      "source": [
        "df = pandas.read_csv('getBingNews.csv')\n",
        "heading=[\"DatePublished\",\"Name\",\"Url\",\"Text\",\"Summary\",\"Keywords\"]\n",
        "with open('getBingNewsProcessed.csv', 'w') as csvFile:\n",
        "    writer = csv.writer(csvFile)\n",
        "    writer.writerow(heading)\n",
        "    \n",
        "for index, row in df.iterrows():\n",
        "    article = Article(row['url'])\n",
        "    try:\n",
        "        article.download()\n",
        "        article.parse()\n",
        "        article.nlp()\n",
        "    except:\n",
        "        continue\n",
        "    date_pub = dateutil.parser.parse(row['datapublished'])\n",
        "    with open('getBingNewsProcessed.csv', 'a') as csvFile:\n",
        "        writer = csv.writer(csvFile)\n",
        "        array = [date_pub.date().isoformat(),row['name'],row['url'], article.text,article.summary,article.keywords]\n",
        "        writer.writerow(array)\n"
      ]
    }
  ],
  "metadata": {
    "kernelspec": {
      "display_name": "Python 3",
      "language": "python",
      "name": "python3"
    },
    "language_info": {
      "codemirror_mode": {
        "name": "ipython",
        "version": 3
      },
      "file_extension": ".py",
      "mimetype": "text/x-python",
      "name": "python",
      "nbconvert_exporter": "python",
      "pygments_lexer": "ipython3",
      "version": "3.7.3"
    },
    "colab": {
      "name": "DownloadBingNews.ipynb",
      "provenance": [],
      "collapsed_sections": []
    }
  },
  "nbformat": 4,
  "nbformat_minor": 0
}